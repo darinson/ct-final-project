{
 "cells": [
  {
   "cell_type": "markdown",
   "id": "c1adf8ae",
   "metadata": {},
   "source": [
    "### Bag of Words"
   ]
  },
  {
   "cell_type": "code",
   "execution_count": 31,
   "id": "f51e0ae6",
   "metadata": {},
   "outputs": [],
   "source": [
    "class Category:\n",
    "    BOOKS = \"BOOKS\"\n",
    "    CLOTHING = \"CLOTHING\"\n",
    "\n",
    "train_x = ['i love the book', 'this is a great book', 'the fit is great', 'i love the shoes']\n",
    "train_y = [Category.BOOKS, Category.BOOKS, Category.CLOTHING, Category.CLOTHING]"
   ]
  },
  {
   "cell_type": "code",
   "execution_count": 10,
   "id": "c62ac709",
   "metadata": {},
   "outputs": [],
   "source": [
    "from sklearn.feature_extraction.text import CountVectorizer"
   ]
  },
  {
   "cell_type": "code",
   "execution_count": 32,
   "id": "1297a870",
   "metadata": {},
   "outputs": [
    {
     "name": "stdout",
     "output_type": "stream",
     "text": [
      "['book', 'fit', 'great', 'is', 'love', 'shoes', 'the', 'this']\n",
      "[[1 0 0 0 1 0 1 0]\n",
      " [1 0 1 1 0 0 0 1]\n",
      " [0 1 1 1 0 0 1 0]\n",
      " [0 0 0 0 1 1 1 0]]\n"
     ]
    }
   ],
   "source": [
    "vectorizer = CountVectorizer(binary = True)\n",
    "#can also add ngram_range(1,2) - this will group two words and count that as unique word.\n",
    "#binary = True makes it 1 and 0, regardless of how many times the \n",
    "\n",
    "train_x_vectors = vectorizer.fit_transform(train_x)\n",
    "# fit_transform is what puts the CountVectorizer in action onto the list of words train_x\n",
    "# vectorizer 'becomes' a list of unique words\n",
    "# vectors is the vectorizer applied TO the train_x\n",
    "## and returns a list representing how many times each word in vectorizer appears in train_x\n",
    "\n",
    "print(vectorizer.get_feature_names())\n",
    "print(train_x_vectors.toarray())"
   ]
  },
  {
   "cell_type": "code",
   "execution_count": 7,
   "id": "58b3396c",
   "metadata": {},
   "outputs": [
    {
     "name": "stdout",
     "output_type": "stream",
     "text": [
      "['love', 'pizza']\n",
      "[[1 1]]\n"
     ]
    }
   ],
   "source": [
    "# train_2 = ['i love pizza']\n",
    "# vectors2 = vectorizer.fit_transform(train_y)\n",
    "\n",
    "# print(vectorizer.get_feature_names())\n",
    "# print(vectors2.toarray())"
   ]
  },
  {
   "cell_type": "code",
   "execution_count": 33,
   "id": "d753052a",
   "metadata": {},
   "outputs": [
    {
     "data": {
      "text/plain": [
       "SVC(kernel='linear')"
      ]
     },
     "execution_count": 33,
     "metadata": {},
     "output_type": "execute_result"
    }
   ],
   "source": [
    "from sklearn import svm\n",
    "#SVM is support vector machine\n",
    "clf_svm = svm.SVC(kernel='linear')\n",
    "#SVC is support vector classification - 'linear’, ‘poly’, ‘rbf’, ‘sigmoid’, ‘precomputed’\n",
    "## default is rbf () - radial basis function\n",
    "clf_svm.fit(train_x_vectors, train_y)"
   ]
  },
  {
   "cell_type": "code",
   "execution_count": 35,
   "id": "0f01b46a",
   "metadata": {},
   "outputs": [
    {
     "data": {
      "text/plain": [
       "array(['CLOTHING'], dtype='<U8')"
      ]
     },
     "execution_count": 35,
     "metadata": {},
     "output_type": "execute_result"
    }
   ],
   "source": [
    "test_x_vectors = vectorizer.transform(['i love the books'])\n",
    "#doesn't know that books is a book. Needs more words in training to realize that book is \n",
    "\n",
    "clf_svm.predict(test_x_vectors)"
   ]
  },
  {
   "cell_type": "markdown",
   "id": "be1231f2",
   "metadata": {},
   "source": [
    "## Word Vectors - change word into number while capturing the semantic meaning"
   ]
  },
  {
   "cell_type": "code",
   "execution_count": 1,
   "id": "b0f42306",
   "metadata": {},
   "outputs": [],
   "source": [
    "import spacy\n",
    "\n",
    "nlp = spacy.load(\"en_core_web_md\")"
   ]
  },
  {
   "cell_type": "code",
   "execution_count": 5,
   "id": "ebb264fc",
   "metadata": {},
   "outputs": [],
   "source": [
    "class Category:\n",
    "  BOOKS = \"BOOKS\"\n",
    "  CLOTHING = \"CLOTHING\"\n",
    "\n",
    "train_x = [\"i love the book\", \"this is a great book\", \"the fit is great\", \"i love the shoes\"]\n",
    "train_y = [Category.BOOKS, Category.BOOKS, Category.CLOTHING, Category.CLOTHING]"
   ]
  },
  {
   "cell_type": "code",
   "execution_count": 24,
   "id": "4f54f44a",
   "metadata": {},
   "outputs": [
    {
     "name": "stdout",
     "output_type": "stream",
     "text": [
      "300\n"
     ]
    }
   ],
   "source": [
    "docs = [nlp(text) for text in train_x]\n",
    "train_x_word_vectors = [x.vector for x in docs] #x is a token\n",
    "print(len(docs[0].vector))"
   ]
  },
  {
   "cell_type": "code",
   "execution_count": 6,
   "id": "8ef01df3",
   "metadata": {},
   "outputs": [
    {
     "data": {
      "text/plain": [
       "SVC(kernel='linear')"
      ]
     },
     "execution_count": 6,
     "metadata": {},
     "output_type": "execute_result"
    }
   ],
   "source": [
    "from sklearn import svm\n",
    "\n",
    "clf_svm_wv = svm.SVC(kernel='linear')\n",
    "clf_svm_wv.fit(train_x_word_vectors, train_y)"
   ]
  },
  {
   "cell_type": "code",
   "execution_count": 8,
   "id": "9ecb3cc6",
   "metadata": {},
   "outputs": [
    {
     "data": {
      "text/plain": [
       "array(['CLOTHING', 'BOOKS'], dtype='<U8')"
      ]
     },
     "execution_count": 8,
     "metadata": {},
     "output_type": "execute_result"
    }
   ],
   "source": [
    "test_x = [\"I went to the shoes and wrote a check\", \"let me check that out\"]\n",
    "test_docs = [nlp(text) for text in test_x]\n",
    "test_x_word_vectors =  [x.vector for x in test_docs]\n",
    "\n",
    "clf_svm_wv.predict(test_x_word_vectors)"
   ]
  }
 ],
 "metadata": {
  "kernelspec": {
   "display_name": "Python [conda env:finalproject_env] *",
   "language": "python",
   "name": "conda-env-finalproject_env-py"
  },
  "language_info": {
   "codemirror_mode": {
    "name": "ipython",
    "version": 3
   },
   "file_extension": ".py",
   "mimetype": "text/x-python",
   "name": "python",
   "nbconvert_exporter": "python",
   "pygments_lexer": "ipython3",
   "version": "3.8.5"
  }
 },
 "nbformat": 4,
 "nbformat_minor": 5
}
